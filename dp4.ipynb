{
 "cells": [
  {
   "cell_type": "markdown",
   "id": "dac1eea8",
   "metadata": {},
   "source": [
    "***GENERATED CODE FOR dp4 PIPELINE.***"
   ]
  },
  {
   "cell_type": "markdown",
   "id": "bd256305",
   "metadata": {},
   "source": [
    "***DON'T EDIT THIS CODE.***"
   ]
  },
  {
   "cell_type": "markdown",
   "id": "01489ebb",
   "metadata": {},
   "source": [
    "***CONNECTOR FUNCTIONS TO READ DATA.***"
   ]
  },
  {
   "cell_type": "code",
   "execution_count": null,
   "id": "5832212c",
   "metadata": {},
   "outputs": [],
   "source": [
    "from hdfs3 import HDFileSystem\n",
    "import datetime\n",
    "import logging\n",
    "import warnings\n",
    "warnings.filterwarnings('ignore')\n",
    "logging.basicConfig(format='%(levelname)s:%(message)s', level=logging.INFO)\n",
    "\n",
    "\n",
    "class HDFSConnector:\n",
    "\n",
    "    def fetch(spark, config):\n",
    "        ################### INPUT HADOOP HOST PORT TO CONNECT WITH ###############################\n",
    "        hdfs = HDFileSystem(\n",
    "            host=eval(config)['host'], port=eval(config)['port'])\n",
    "        with hdfs.open(eval(config)['url']) as f:\n",
    "            df = pd.read_csv(f, error_bad_lines=False)\n",
    "        df = spark.createDataFrame(dfPd)\n",
    "        display(df.limit(2).toPandas())\n",
    "        return df\n",
    "\n",
    "    def put(df, spark, config):\n",
    "        return df.write.format('csv').options(header='true' if eval(config)[\"is_header\"] == \"Use Header Line\" else 'false',\n",
    "                                              delimiter=eval(config)[\"delimiter\"]).save((\"%s %s\") % (datetime.datetime.now().strftime(\"%Y-%m-%d %H.%M.%S\")+\"_\", eval(config)['url']))\n"
   ]
  },
  {
   "cell_type": "markdown",
   "id": "848be689",
   "metadata": {},
   "source": [
    "***OPERATION FUNCTIONS***"
   ]
  },
  {
   "cell_type": "code",
   "execution_count": null,
   "id": "24490484",
   "metadata": {},
   "outputs": [],
   "source": [
    "import pyspark\n",
    "from dask.dataframe import from_pandas\n",
    "import json\n",
    "\n",
    "\n",
    "def calculateFormula(df, functionsData, applyOn):\n",
    "    dfcp = df\n",
    "    for functionData in functionsData:\n",
    "        if functionData['useNext']:\n",
    "            if 'dataPrepColumn_Inprocess' in list(dfcp.columns):\n",
    "                dfcp['dataPrepColumn_Inprocess'] = calculateEquation(\n",
    "                    dfcp, functionData['operator'], functionData['dataPrepColumn_Inprocess'], functionData['operand2'])\n",
    "            else:\n",
    "                dfcp['dataPrepColumn_Inprocess'] = calculateEquation(\n",
    "                    dfcp, functionData['operator'], functionData['operand1'], functionData['operand2'])\n",
    "        else:\n",
    "            if 'dataPrepColumn_Inprocess' in list(dfcp.columns):\n",
    "                if functionData['outputColumn'] == \"newColumn\":\n",
    "                    newColumnName = \"New_\" + \\\n",
    "                        functionData['operand1']+\"_\" + \\\n",
    "                        functionData['operator']+\"_\"+functionData['operand2']\n",
    "                    dfcp[newColumnName] = calculateEquation(dfcp, functionData['operator'],\n",
    "                                                            functionData['dataPrepColumn_Inprocess'], functionData['operand2'])\n",
    "                else:\n",
    "                    dfcp[functionData['outputColumn']] = calculateEquation(dfcp, functionData[\n",
    "                        'operator'], functionData['dataPrepColumn_Inprocess'], functionData['operand2'])\n",
    "                dfcp.drop('dataPrepColumn_Inprocess', axis=1)\n",
    "            else:\n",
    "                if functionData['outputColumn'] == \"newColumn\":\n",
    "                    newColumnName = \"New_\" + \\\n",
    "                        functionData['operand1']+\"_\" + \\\n",
    "                        functionData['operator']+\"_\"+functionData['operand2']\n",
    "                    dfcp[newColumnName] = calculateEquation(dfcp, functionData[\n",
    "                        'operator'], functionData['operand1'], functionData['operand2'])\n",
    "                else:\n",
    "                    dfcp[functionData['outputColumn']] = calculateEquation(dfcp, functionData[\n",
    "                        'operator'], functionData['operand1'], functionData['operand2'])\n",
    "    return dfcp\n",
    "\n",
    "\n",
    "def calculateEquation(df, operator, columnA, columnB):\n",
    "    if (operator == \"add\"):\n",
    "        return df[columnA].add(df[columnB])\n",
    "    elif (operator == \"sub\"):\n",
    "        return df[columnA].sub(df[columnB])\n",
    "    elif (operator == \"mul\"):\n",
    "        return df[columnA].mul(df[columnB])\n",
    "    elif (operator == \"div\"):\n",
    "        return df[columnA].div(df[columnB])\n",
    "    elif (operator == \"mod\"):\n",
    "        return df[columnA].mod(df[columnB])\n",
    "\n",
    "\n",
    "def runDataCleansing(sparkDf, spark, config):\n",
    "    configObj = json.loads(config)\n",
    "    sparkDf.persist(pyspark.StorageLevel.MEMORY_AND_DISK)\n",
    "    df = from_pandas((sparkDf.toPandas()), npartitions=5)\n",
    "    functionList = configObj['functionsApplied']\n",
    "    Data_Cleansing_Methods = {\"replaceBy\": replaceValues,\n",
    "                              \"formula\": calculateFormula,\n",
    "                              \"aggregate\": aggregation,\n",
    "                              \"converttostringtype\": changeToString,\n",
    "                              \"editname\": renameColumns}\n",
    "    for function in functionList:\n",
    "        function['functionName']\n",
    "        df = Data_Cleansing_Methods[function['functionName']](df, function['functionsData'],\n",
    "                                                              function['applyOn'])\n",
    "    sparkDf = spark.createDataFrame(df.compute())\n",
    "\n",
    "    display(sparkDf.limit(2).toPandas())\n",
    "    return sparkDf\n"
   ]
  },
  {
   "cell_type": "markdown",
   "id": "1063af72",
   "metadata": {},
   "source": [
    "***CONNECTOR FUNCTIONS TO WRITE DATA.***"
   ]
  },
  {
   "cell_type": "code",
   "execution_count": null,
   "id": "561ad4eb",
   "metadata": {},
   "outputs": [],
   "source": [
    "import datetime\n",
    "import requests\n",
    "import datetime\n",
    "import logging\n",
    "import warnings\n",
    "warnings.filterwarnings('ignore')\n",
    "logging.basicConfig(format='%(levelname)s:%(message)s', level=logging.INFO)\n",
    "\n",
    "\n",
    "class NumtraConnector:\n",
    "\n",
    "    def put(inStages, inStagesData, stageId, spark, config):\n",
    "        path = eval(config)['server_url']\n",
    "        baseType = eval(config)['baseType']\n",
    "        results_url = eval(config)['results_url']\n",
    "        server = eval(config)['server']\n",
    "        originalfile = eval(config)['orignalKey']\n",
    "        eval(config)['pathOnly']\n",
    "        filename = eval(config)['filename']\n",
    "        eval(config)['ser']\n",
    "        eval(config)['user']\n",
    "        eval(config)['password']\n",
    "        eval(config)['authSource']\n",
    "        eval(config)['user_id']\n",
    "        eval(config)['parent_id']\n",
    "        eval(config)['project_id']\n",
    "        time = str(int(datetime.datetime.now().timestamp()))\n",
    "\n",
    "        inStagesData[inStages[0]]\n",
    "\n",
    "        print(path)\n",
    "        print(baseType)\n",
    "        print(results_url)\n",
    "        print(server)\n",
    "        print(originalfile)\n",
    "        print(filename)\n",
    "\n",
    "        args = {\n",
    "            'url': path,\n",
    "            'baseType': baseType,\n",
    "            'originalfile': originalfile,\n",
    "            'filename': time + filename\n",
    "        }\n",
    "\n",
    "        response = requests.post(results_url, args)\n",
    "        return response\n"
   ]
  },
  {
   "cell_type": "markdown",
   "id": "718bc3f1",
   "metadata": {},
   "source": [
    "***READING DATAFRAME***"
   ]
  },
  {
   "cell_type": "code",
   "execution_count": null,
   "id": "4c87e8fb",
   "metadata": {},
   "outputs": [],
   "source": [
    "############## CREATE SPARK SESSION ############################ ENTER YOUR SPARK MASTER IP AND PORT TO CONNECT TO SERVER ################from pyspark.sql import SparkSession\n",
    "spark = SparkSession.builder.master('spark://0.0.0.0:0000').getOrCreate()\n",
    "#%run dp4Hooks.ipynb\n",
    "try:\n",
    "\t#sourcePreExecutionHook()\n",
    "\n",
    "\tloanpaymentdata = HDFSConnector.fetch(spark, \"{'url': '/FileStore/platform/testdata/1666681030857_Loan_payments_data.csv', 'filename': 'Loan payments data.csv', 'delimiter': ',', 'file_type': 'Delimeted', 'dbfs_token': '', 'dbfs_domain': '', 'FilePath': '/Finance Models/Loan Pay Off Prediction- Classification/Loan payments data.csv', 'viewFileName': 'Loan payments data.csv', 'is_header': 'Use Header Line', 'baseType': 'hdfs', 'server_url': '/numtraPlatform/NumtraPlatformV2/uploads/platform/', 'results_url': 'http://dev.numtra.com:4040/api/read/hdfs'}\")\n",
    "\n",
    "except Exception as ex: \n",
    "\tlogging.error(ex)\n"
   ]
  },
  {
   "cell_type": "markdown",
   "id": "33b31b93",
   "metadata": {},
   "source": [
    "***PERFORMING OPERATIONS***"
   ]
  },
  {
   "cell_type": "code",
   "execution_count": null,
   "id": "516055f4",
   "metadata": {},
   "outputs": [],
   "source": [
    "#%run dp4Hooks.ipynb\n",
    "try:\n",
    "\t#operationPreExecutionHook()\n",
    "\n",
    "datapreparation = runDataCleansing(loanpaymentdata,spark,json.dumps( {\"url\": \"/FileStore/platform/testdata/1666681030857_Loan_payments_data.csv\", \"source_attributes\": {}, \"DataPrepFile\": \"/FileStore/platform/testdata/1666681030857_Loan_payments_data.csv\", \"data_source\": \"platfiles\", \"startListenerOnly\": 1, \"dateColumnNames\": [], \"FilePath\": \"/FileStore/platform/extra/63c7883ae3972525de8817ec1674021401/0part.csv\", \"requestRatio\": 1.0, \"totalRows\": 500, \"BasicStats\": {\"missingValues\": 16.0, \"numberOfColumns\": 12, \"numberOfRows\": 500, \"duplicateRowCount\": 0, \"stats\": [{\"column\": \"Loan_ID\", \"alias\": \"Loan_ID\", \"generated\": 0, \"type\": \"String\", \"max\": \"xqd91160291\", \"min\": \"xqd12160159\", \"mean\": \"\", \"missing\": 0.0, \"stddev\": \"\", \"outliers\": [], \"validation\": []}, {\"column\": \"loan_status\", \"alias\": \"loan_status\", \"generated\": 0, \"type\": \"String\", \"max\": \"PAIDOFF\", \"min\": \"COLLECTION\", \"mean\": \"\", \"missing\": 0.0, \"stddev\": \"\", \"outliers\": [], \"validation\": []}, {\"column\": \"Principal\", \"alias\": \"Principal\", \"generated\": 0, \"type\": \"numeric\", \"max\": 1000, \"min\": 300, \"mean\": 943.2, \"missing\": 0.0, \"stddev\": 115.24, \"outliers\": [300, 800, 300, 900, 800, 800, 800, 800, 800, 800, 700, 800, 800, 800, 800, 800, 800, 800, 800, 900, 300, 800, 800, 800, 800, 800, 800, 800, 800, 800, 800, 800, 800, 800, 800, 800, 800, 800, 300, 800, 800, 500, 800, 800, 800, 800, 800, 800, 300, 800, 800, 800, 800, 800, 300, 800, 800, 800, 800, 800, 800, 800, 800, 800, 800, 800, 500, 800, 800, 800, 800, 800, 800, 800, 800, 800, 800, 800, 800, 800, 800, 800, 800, 800, 800, 800, 800, 800, 800, 800, 800, 800, 800, 800, 800, 800, 800, 800, 800, 800, 800, 800, 800, 800, 800, 800, 800, 800, 800, 800, 800, 500, 800, 800, 800, 800, 800, 800, 800, 800, 800, 800, 800], \"validation\": []}, {\"column\": \"terms\", \"alias\": \"terms\", \"generated\": 0, \"type\": \"numeric\", \"max\": 30, \"min\": 7, \"mean\": 22.824, \"missing\": 0.0, \"stddev\": 8.0, \"outliers\": [], \"validation\": []}, {\"column\": \"effective_date\", \"alias\": \"effective_date\", \"generated\": 0, \"type\": \"String\", \"max\": \"9/9/2016\", \"min\": \"9/10/2016\", \"mean\": \"\", \"missing\": 0.0, \"stddev\": \"\", \"outliers\": [], \"validation\": []}, {\"column\": \"due_date\", \"alias\": \"due_date\", \"generated\": 0, \"type\": \"String\", \"max\": \"9/28/2016\", \"min\": \"10/10/2016\", \"mean\": \"\", \"missing\": 0.0, \"stddev\": \"\", \"outliers\": [], \"validation\": []}, {\"column\": \"paid_off_time\", \"alias\": \"paid_off_time\", \"generated\": 0, \"type\": \"String\", \"max\": \"\", \"min\": \"\", \"mean\": \"\", \"missing\": 20.0, \"stddev\": \"\", \"outliers\": [], \"validation\": []}, {\"column\": \"past_due_days\", \"alias\": \"past_due_days\", \"generated\": 0, \"type\": \"real\", \"max\": 76.0, \"min\": 1.0, \"mean\": 36.01, \"missing\": 60.0, \"stddev\": 29.38, \"outliers\": [], \"validation\": []}, {\"column\": \"age\", \"alias\": \"age\", \"generated\": 0, \"type\": \"numeric\", \"max\": 51, \"min\": 18, \"mean\": 31.116, \"missing\": 0.0, \"stddev\": 6.08, \"outliers\": [50, 50, 46, 47, 46, 50, 51, 50, 46, 47, 49, 46, 47, 46], \"validation\": []}, {\"column\": \"education\", \"alias\": \"education\", \"generated\": 0, \"type\": \"String\", \"max\": \"college\", \"min\": \"Bechalor\", \"mean\": \"\", \"missing\": 0.0, \"stddev\": \"\", \"outliers\": [], \"validation\": []}, {\"column\": \"Gender\", \"alias\": \"Gender\", \"generated\": 0, \"type\": \"String\", \"max\": \"male\", \"min\": \"female\", \"mean\": \"\", \"missing\": 0.0, \"stddev\": \"\", \"outliers\": [], \"validation\": []}, {\"column\": \"PrincipalTerms\", \"alias\": \"PrincipalTerms\", \"generated\": 1, \"type\": \"numeric\", \"max\": 1030, \"min\": 307, \"mean\": 966.024, \"missing\": 0.0, \"stddev\": 119.71, \"outliers\": [307, 815, 307, 907, 815, 830, 815, 815, 815, 815, 715, 815, 807, 815, 815, 815, 815, 815, 815, 915, 307, 815, 815, 815, 815, 815, 815, 815, 815, 815, 815, 815, 815, 815, 815, 815, 815, 815, 307, 815, 815, 515, 815, 815, 830, 815, 815, 815, 307, 815, 815, 815, 815, 815, 307, 815, 815, 815, 815, 815, 815, 815, 815, 815, 815, 815, 507, 815, 815, 830, 815, 815, 830, 815, 815, 815, 830, 815, 815, 815, 815, 815, 815, 815, 815, 815, 815, 815, 815, 815, 815, 815, 815, 830, 815, 815, 815, 815, 815, 815, 815, 815, 815, 815, 815, 815, 815, 815, 815, 815, 815, 515, 815, 807, 815, 815, 815, 815, 815, 815, 815, 815, 815], \"validation\": []}]}, \"predictionPowerScore\": [{\"Gender\": 1.0, \"Loan_ID\": 0.0, \"Principal\": 0.0, \"PrincipalTerms\": 0.0, \"age\": 0.0, \"due_date\": 0.0, \"education\": 1.70253e-05, \"effective_date\": 0.0, \"loan_status\": 1.70253e-05, \"paid_off_time\": 0.0, \"past_due_days\": 0.0, \"terms\": 1.70253e-05}, {\"Gender\": 0.0, \"Loan_ID\": 1.0, \"Principal\": 0.0, \"PrincipalTerms\": 0.0, \"age\": 0.0, \"due_date\": 0.0, \"education\": 0.0, \"effective_date\": 0.0, \"loan_status\": 0.0, \"paid_off_time\": 0.0, \"past_due_days\": 0.0, \"terms\": 0.0}, {\"Gender\": 0.0, \"Loan_ID\": 0.0, \"Principal\": 1.0, \"PrincipalTerms\": 0.9964788732, \"age\": 0.0, \"due_date\": 0.0, \"education\": 0.0, \"effective_date\": 0.0, \"loan_status\": 0.0, \"paid_off_time\": 0.0, \"past_due_days\": 0.0, \"terms\": 0.0}, {\"Gender\": 0.0, \"Loan_ID\": 0.0, \"Principal\": 0.9130383514, \"PrincipalTerms\": 1.0, \"age\": 0.0, \"due_date\": 0.0578205432, \"education\": 0.0, \"effective_date\": 0.0, \"loan_status\": 0.0, \"paid_off_time\": 0.0, \"past_due_days\": 0.0, \"terms\": 0.0710500207}, {\"Gender\": 0.0, \"Loan_ID\": 0.0, \"Principal\": 0.0, \"PrincipalTerms\": 0.0, \"age\": 1.0, \"due_date\": 0.0, \"education\": 0.0, \"effective_date\": 0.0, \"loan_status\": 0.0, \"paid_off_time\": 0.0, \"past_due_days\": 0.0, \"terms\": 0.0}, {\"Gender\": 0.0, \"Loan_ID\": 0.0, \"Principal\": 0.0858710357, \"PrincipalTerms\": 0.1497054173, \"age\": 0.0090246543, \"due_date\": 1.0, \"education\": 0.0, \"effective_date\": 0.2651029426, \"loan_status\": 0.0, \"paid_off_time\": 0.343800765, \"past_due_days\": 0.4256003958, \"terms\": 0.1418696133}, {\"Gender\": 0.0, \"Loan_ID\": 0.0, \"Principal\": 0.0, \"PrincipalTerms\": 0.0071505416, \"age\": 0.0, \"due_date\": 0.0039288614, \"education\": 1.0, \"effective_date\": 0.0036480658, \"loan_status\": 0.0, \"paid_off_time\": 0.0477147256, \"past_due_days\": 0.0181424489, \"terms\": 0.0321368916}, {\"Gender\": 0.0, \"Loan_ID\": 0.0, \"Principal\": 0.0, \"PrincipalTerms\": 0.0, \"age\": 0.0, \"due_date\": 0.9790033544, \"education\": 0.0, \"effective_date\": 1.0, \"loan_status\": 0.0181349492, \"paid_off_time\": 0.2721201731, \"past_due_days\": 0.3530032747, \"terms\": 0.0}, {\"Gender\": 0.0, \"Loan_ID\": 0.0, \"Principal\": 0.0, \"PrincipalTerms\": 0.0, \"age\": 0.0404476263, \"due_date\": 0.0595968627, \"education\": 0.0, \"effective_date\": 0.0166311371, \"loan_status\": 1.0, \"paid_off_time\": 0.0, \"past_due_days\": 0.9325495724, \"terms\": 0.0}, {\"Gender\": 0.0013059057, \"Loan_ID\": 0.0, \"Principal\": 0.0004473464, \"PrincipalTerms\": 0.002510039, \"age\": 0.0003494117, \"due_date\": 0.0451598895, \"education\": 0.0018436902, \"effective_date\": 0.0092018782, \"loan_status\": 4.99309e-05, \"paid_off_time\": 1.0, \"past_due_days\": 0.0, \"terms\": 0.0023149036}, {\"Gender\": 0.0, \"Loan_ID\": 0.0, \"Principal\": 0.0, \"PrincipalTerms\": 0.0, \"age\": 0.0, \"due_date\": 0.1443082394, \"education\": 0.0002280738, \"effective_date\": 0.1534102566, \"loan_status\": 0.6769120366, \"paid_off_time\": 0.0, \"past_due_days\": 1.0, \"terms\": 0.0}, {\"Gender\": 0.0, \"Loan_ID\": 0.0, \"Principal\": 0.2525838305, \"PrincipalTerms\": 0.9866220736, \"age\": 0.0, \"due_date\": 0.9116992315, \"education\": 0.0, \"effective_date\": 0.0, \"loan_status\": 0.0, \"paid_off_time\": 0.2410023545, \"past_due_days\": 0.3016672745, \"terms\": 1.0}], \"HasBasicStats\": 1, \"functionsApplied\": [{\"functionName\": \"formula\", \"applyOn\": [{\"columnName\": \"Principal\", \"type\": \"numeric\", \"min\": \"300.0\", \"max\": \"1000.0\", \"mean\": \"943.2\"}, {\"columnName\": \"terms\", \"type\": \"numeric\", \"min\": \"7.0\", \"max\": \"30.0\", \"mean\": \"22.8\"}], \"functionsData\": [{\"operand1\": \"Principal\", \"operator\": \"add\", \"operand2\": \"terms\", \"outputColumn\": \"newColumn\", \"useNext\": 0, \"column\": [{\"Columndata\": {\"columnName\": \"Principal\", \"type\": \"numeric\", \"min\": \"300.0\", \"max\": \"1000.0\", \"mean\": \"943.2\"}}, {\"Columndata\": {\"columnName\": \"terms\", \"type\": \"numeric\", \"min\": \"7.0\", \"max\": \"30.0\", \"mean\": \"22.8\"}}, {\"Columndata\": \"\"}], \"newColumnName\": \"PrincipalTerms\"}]}], \"functionChanges\": [{\"columnName\": \"Principal\", \"functionName\": \"Formula\", \"Type\": \"numeric\", \"Parameters\": [{\"operand1\": \"Principal\", \"operator\": \"add\", \"operand2\": \"terms\", \"outputColumn\": \"newColumn\", \"useNext\": 0, \"column\": [{\"Columndata\": {\"columnName\": \"Principal\", \"type\": \"numeric\", \"min\": \"300.0\", \"max\": \"1000.0\", \"mean\": \"943.2\"}}, {\"Columndata\": {\"columnName\": \"terms\", \"type\": \"numeric\", \"min\": \"7.0\", \"max\": \"30.0\", \"mean\": \"22.8\"}}, {\"Columndata\": \"\"}], \"newColumnName\": \"PrincipalTerms\"}]}, {\"columnName\": \"terms\", \"functionName\": \"Formula\", \"Type\": \"numeric\", \"Parameters\": [{\"operand1\": \"Principal\", \"operator\": \"add\", \"operand2\": \"terms\", \"outputColumn\": \"newColumn\", \"useNext\": 0, \"column\": [{\"Columndata\": {\"columnName\": \"Principal\", \"type\": \"numeric\", \"min\": \"300.0\", \"max\": \"1000.0\", \"mean\": \"943.2\"}}, {\"Columndata\": {\"columnName\": \"terms\", \"type\": \"numeric\", \"min\": \"7.0\", \"max\": \"30.0\", \"mean\": \"22.8\"}}, {\"Columndata\": \"\"}], \"newColumnName\": \"PrincipalTerms\"}]}], \"fileheader\": [{\"field\": \"Loan_ID\", \"alias\": \"Loan_ID\", \"generated\": 0, \"position\": 1, \"type\": \"String\"}, {\"field\": \"loan_status\", \"alias\": \"loan_status\", \"generated\": 0, \"position\": 2, \"type\": \"String\"}, {\"field\": \"Principal\", \"alias\": \"Principal\", \"generated\": 0, \"position\": 3, \"type\": \"numeric\"}, {\"field\": \"terms\", \"alias\": \"terms\", \"generated\": 0, \"position\": 4, \"type\": \"numeric\"}, {\"field\": \"effective_date\", \"alias\": \"effective_date\", \"generated\": 0, \"position\": 5, \"type\": \"String\"}, {\"field\": \"due_date\", \"alias\": \"due_date\", \"generated\": 0, \"position\": 6, \"type\": \"String\"}, {\"field\": \"paid_off_time\", \"alias\": \"paid_off_time\", \"generated\": 0, \"position\": 7, \"type\": \"String\"}, {\"field\": \"past_due_days\", \"alias\": \"past_due_days\", \"generated\": 0, \"position\": 8, \"type\": \"real\"}, {\"field\": \"age\", \"alias\": \"age\", \"generated\": 0, \"position\": 9, \"type\": \"numeric\"}, {\"field\": \"education\", \"alias\": \"education\", \"generated\": 0, \"position\": 10, \"type\": \"String\"}, {\"field\": \"Gender\", \"alias\": \"Gender\", \"generated\": 0, \"position\": 11, \"type\": \"String\"}, {\"field\": \"PrincipalTerms\", \"alias\": \"PrincipalTerms\", \"generated\": 1, \"position\": 12, \"type\": \"numeric\"}]}))\n",
    "\t#operationPostExecutionHook(datapreparation)\n",
    "\n",
    "except Exception as ex: \n",
    "\tlogging.error(ex)\n"
   ]
  },
  {
   "cell_type": "markdown",
   "id": "ae12326f",
   "metadata": {},
   "source": [
    "***WRITING DATAFRAME***"
   ]
  },
  {
   "cell_type": "code",
   "execution_count": null,
   "id": "0f53f57a",
   "metadata": {},
   "outputs": [],
   "source": [
    "#%run dp4Hooks.ipynb\n",
    "try:\n",
    "\t#sinkPreExecutionHook()\n",
    "\n",
    "\tdatapipeline = NumtraConnector.fetch(spark, \"{'samplefile': '/FileStore/platform/sampleData/63c78834e3972525de8817e8/part-00000-64d8e16c-334a-47e4-8c7c-bf315463a11b-c000.csv', 'samplecount': 500, 'originalcount': 500, 'orignalKey': '/FileStore/platform/testdata/1666681030857_Loan_payments_data.csv', 'pathOnly': '/dataPipeline', 'project_id': '63c0fe048b96720de22fd1f9', 'parent_id': '63c0fe048b96720de22fd1f9', 'original_schema': [{'checked': True, 'inherited': True, 'is_categorical': False, 'bad_values': '', 'nullable': 'true', 'field': 'Loan_ID', 'alias': 'Loan_ID', 'type': 'String', 'position': '0'}, {'checked': True, 'inherited': True, 'is_categorical': False, 'bad_values': '', 'nullable': 'true', 'field': 'loan_status', 'alias': 'loan_status', 'type': 'String', 'position': '1'}, {'checked': True, 'inherited': True, 'is_categorical': False, 'bad_values': '', 'nullable': 'true', 'field': 'Principal', 'alias': 'Principal', 'type': 'numeric', 'position': '2'}, {'checked': True, 'inherited': True, 'is_categorical': False, 'bad_values': '', 'nullable': 'true', 'field': 'terms', 'alias': 'terms', 'type': 'numeric', 'position': '3'}, {'checked': True, 'inherited': True, 'is_categorical': False, 'bad_values': '', 'nullable': 'true', 'field': 'effective_date', 'alias': 'effective_date', 'type': 'date', 'position': '4'}, {'checked': True, 'inherited': True, 'is_categorical': False, 'bad_values': '', 'nullable': 'true', 'field': 'due_date', 'alias': 'due_date', 'type': 'date', 'position': '5'}, {'checked': True, 'inherited': True, 'is_categorical': False, 'bad_values': '', 'nullable': 'true', 'field': 'paid_off_time', 'alias': 'paid_off_time', 'type': 'date', 'position': '6'}, {'checked': True, 'inherited': True, 'is_categorical': False, 'bad_values': '', 'nullable': 'true', 'field': 'past_due_days', 'alias': 'past_due_days', 'type': 'real', 'position': '7'}, {'checked': True, 'inherited': True, 'is_categorical': False, 'bad_values': '', 'nullable': 'true', 'field': 'age', 'alias': 'age', 'type': 'numeric', 'position': '8'}, {'checked': True, 'inherited': True, 'is_categorical': False, 'bad_values': '', 'nullable': 'true', 'field': 'education', 'alias': 'education', 'type': 'String', 'position': '9'}, {'checked': True, 'inherited': True, 'is_categorical': False, 'bad_values': '', 'nullable': 'true', 'field': 'Gender', 'alias': 'Gender', 'type': 'String', 'position': '10'}, {'checked': True, 'inherited': True, 'is_categorical': False, 'bad_values': '', 'nullable': 'true', 'field': 'PrincipalTerms', 'alias': 'PrincipalTerms', 'type': 'numeric', 'position': '12'}], 'actual_schema': [{'checked': True, 'inherited': True, 'is_categorical': False, 'bad_values': '', 'nullable': 'true', 'field': 'Loan_ID', 'alias': 'Loan_ID', 'type': 'String', 'position': '0'}, {'checked': True, 'inherited': True, 'is_categorical': False, 'bad_values': '', 'nullable': 'true', 'field': 'loan_status', 'alias': 'loan_status', 'type': 'String', 'position': '1'}, {'checked': True, 'inherited': True, 'is_categorical': False, 'bad_values': '', 'nullable': 'true', 'field': 'Principal', 'alias': 'Principal', 'type': 'numeric', 'position': '2'}, {'checked': True, 'inherited': True, 'is_categorical': False, 'bad_values': '', 'nullable': 'true', 'field': 'terms', 'alias': 'terms', 'type': 'numeric', 'position': '3'}, {'checked': True, 'inherited': True, 'is_categorical': False, 'bad_values': '', 'nullable': 'true', 'field': 'effective_date', 'alias': 'effective_date', 'type': 'date', 'position': '4'}, {'checked': True, 'inherited': True, 'is_categorical': False, 'bad_values': '', 'nullable': 'true', 'field': 'due_date', 'alias': 'due_date', 'type': 'date', 'position': '5'}, {'checked': True, 'inherited': True, 'is_categorical': False, 'bad_values': '', 'nullable': 'true', 'field': 'paid_off_time', 'alias': 'paid_off_time', 'type': 'date', 'position': '6'}, {'checked': True, 'inherited': True, 'is_categorical': False, 'bad_values': '', 'nullable': 'true', 'field': 'past_due_days', 'alias': 'past_due_days', 'type': 'real', 'position': '7'}, {'checked': True, 'inherited': True, 'is_categorical': False, 'bad_values': '', 'nullable': 'true', 'field': 'age', 'alias': 'age', 'type': 'numeric', 'position': '8'}, {'checked': True, 'inherited': True, 'is_categorical': False, 'bad_values': '', 'nullable': 'true', 'field': 'education', 'alias': 'education', 'type': 'String', 'position': '9'}, {'checked': True, 'inherited': True, 'is_categorical': False, 'bad_values': '', 'nullable': 'true', 'field': 'Gender', 'alias': 'Gender', 'type': 'String', 'position': '10'}], 'server': 'https://dev.numtra.com:443', 'server_url': '/numtraPlatform/NumtraPlatformV2/uploads/platform/', 'delimiter': ',', 'file_type': 'Delimeted', 'filename': 'DP4Data.csv', 'token': '', 'domain': '', 'is_header': 'Use Header Line', 'url': '/FileStore/platform/uploadedSourceFiles/part-00000-3bc81c44-a9aa-4787-a9c8-05dda522e3dc-c000.csv', 'results_url': 'http://dev.numtra.com:4040/api/read/hdfs'}\")\n",
    "\n",
    "except Exception as ex: \n",
    "\tlogging.error(ex)\n"
   ]
  }
 ],
 "metadata": {},
 "nbformat": 4,
 "nbformat_minor": 5
}
